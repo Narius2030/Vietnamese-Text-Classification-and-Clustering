{
 "cells": [
  {
   "cell_type": "code",
   "execution_count": 83,
   "metadata": {},
   "outputs": [],
   "source": [
    "import pandas as pd\n",
    "from sklearn.preprocessing import LabelEncoder\n",
    "from sklearn.model_selection import train_test_split\n",
    "from sklearn.metrics import mean_squared_error, classification_report, confusion_matrix, ConfusionMatrixDisplay\n",
    "from sklearn.feature_extraction.text import TfidfVectorizer\n",
    "from sklearn.neighbors import KNeighborsClassifier\n",
    "from sklearn.model_selection import GridSearchCV\n",
    "from src.dtprocess import cleandt"
   ]
  },
  {
   "cell_type": "markdown",
   "metadata": {},
   "source": [
    "## Import and Adjust data"
   ]
  },
  {
   "cell_type": "code",
   "execution_count": 5,
   "metadata": {},
   "outputs": [
    {
     "name": "stdout",
     "output_type": "stream",
     "text": [
      "<class 'pandas.core.frame.DataFrame'>\n",
      "RangeIndex: 2474 entries, 0 to 2473\n",
      "Data columns (total 4 columns):\n",
      " #   Column      Non-Null Count  Dtype \n",
      "---  ------      --------------  ----- \n",
      " 0   article_id  2474 non-null   int64 \n",
      " 1   topic       2474 non-null   object\n",
      " 2   sub-topic   2474 non-null   object\n",
      " 3   tag         2474 non-null   object\n",
      "dtypes: int64(1), object(3)\n",
      "memory usage: 77.4+ KB\n",
      "None\n"
     ]
    },
    {
     "data": {
      "text/html": [
       "<div>\n",
       "<style scoped>\n",
       "    .dataframe tbody tr th:only-of-type {\n",
       "        vertical-align: middle;\n",
       "    }\n",
       "\n",
       "    .dataframe tbody tr th {\n",
       "        vertical-align: top;\n",
       "    }\n",
       "\n",
       "    .dataframe thead th {\n",
       "        text-align: right;\n",
       "    }\n",
       "</style>\n",
       "<table border=\"1\" class=\"dataframe\">\n",
       "  <thead>\n",
       "    <tr style=\"text-align: right;\">\n",
       "      <th></th>\n",
       "      <th>article_id</th>\n",
       "      <th>topic</th>\n",
       "      <th>sub-topic</th>\n",
       "      <th>tag</th>\n",
       "    </tr>\n",
       "  </thead>\n",
       "  <tbody>\n",
       "    <tr>\n",
       "      <th>0</th>\n",
       "      <td>0</td>\n",
       "      <td>doi-song</td>\n",
       "      <td>to-am</td>\n",
       "      <td>xin_lỗi đi nhiều thế_hệ đã dùng câu này để xử_...</td>\n",
       "    </tr>\n",
       "    <tr>\n",
       "      <th>1</th>\n",
       "      <td>1</td>\n",
       "      <td>doi-song</td>\n",
       "      <td>to-am</td>\n",
       "      <td>một nghiên_cứu của đại_học wisconsinmadison mỹ...</td>\n",
       "    </tr>\n",
       "    <tr>\n",
       "      <th>2</th>\n",
       "      <td>2</td>\n",
       "      <td>doi-song</td>\n",
       "      <td>to-am</td>\n",
       "      <td>các yếu_tố như độ tuổi của trẻ mối quan_hệ giữ...</td>\n",
       "    </tr>\n",
       "    <tr>\n",
       "      <th>3</th>\n",
       "      <td>3</td>\n",
       "      <td>doi-song</td>\n",
       "      <td>to-am</td>\n",
       "      <td>ở tuổi đôi_mươi chị trần thị liên_kết_hôn với ...</td>\n",
       "    </tr>\n",
       "    <tr>\n",
       "      <th>4</th>\n",
       "      <td>4</td>\n",
       "      <td>doi-song</td>\n",
       "      <td>to-am</td>\n",
       "      <td>chị hoàng thị hòa 34 tuổi ở hà nam lấy chồng b...</td>\n",
       "    </tr>\n",
       "  </tbody>\n",
       "</table>\n",
       "</div>"
      ],
      "text/plain": [
       "   article_id     topic sub-topic  \\\n",
       "0           0  doi-song     to-am   \n",
       "1           1  doi-song     to-am   \n",
       "2           2  doi-song     to-am   \n",
       "3           3  doi-song     to-am   \n",
       "4           4  doi-song     to-am   \n",
       "\n",
       "                                                 tag  \n",
       "0  xin_lỗi đi nhiều thế_hệ đã dùng câu này để xử_...  \n",
       "1  một nghiên_cứu của đại_học wisconsinmadison mỹ...  \n",
       "2  các yếu_tố như độ tuổi của trẻ mối quan_hệ giữ...  \n",
       "3  ở tuổi đôi_mươi chị trần thị liên_kết_hôn với ...  \n",
       "4  chị hoàng thị hòa 34 tuổi ở hà nam lấy chồng b...  "
      ]
     },
     "execution_count": 5,
     "metadata": {},
     "output_type": "execute_result"
    }
   ],
   "source": [
    "vnexpress = pd.read_csv('./data/vnexpress/csv/cleaned_vnexpress.csv').drop(columns=['Unnamed: 0'], axis=1)\n",
    "print(vnexpress.info())\n",
    "vnexpress.head()"
   ]
  },
  {
   "cell_type": "code",
   "execution_count": 6,
   "metadata": {},
   "outputs": [
    {
     "data": {
      "text/html": [
       "<div>\n",
       "<style scoped>\n",
       "    .dataframe tbody tr th:only-of-type {\n",
       "        vertical-align: middle;\n",
       "    }\n",
       "\n",
       "    .dataframe tbody tr th {\n",
       "        vertical-align: top;\n",
       "    }\n",
       "\n",
       "    .dataframe thead th {\n",
       "        text-align: right;\n",
       "    }\n",
       "</style>\n",
       "<table border=\"1\" class=\"dataframe\">\n",
       "  <thead>\n",
       "    <tr style=\"text-align: right;\">\n",
       "      <th></th>\n",
       "      <th>article_id</th>\n",
       "      <th>topic</th>\n",
       "      <th>sub-topic</th>\n",
       "      <th>tag</th>\n",
       "    </tr>\n",
       "  </thead>\n",
       "  <tbody>\n",
       "    <tr>\n",
       "      <th>0</th>\n",
       "      <td>0</td>\n",
       "      <td>0</td>\n",
       "      <td>to-am</td>\n",
       "      <td>xin_lỗi đi nhiều thế_hệ đã dùng câu này để xử_...</td>\n",
       "    </tr>\n",
       "    <tr>\n",
       "      <th>1</th>\n",
       "      <td>1</td>\n",
       "      <td>0</td>\n",
       "      <td>to-am</td>\n",
       "      <td>một nghiên_cứu của đại_học wisconsinmadison mỹ...</td>\n",
       "    </tr>\n",
       "    <tr>\n",
       "      <th>2</th>\n",
       "      <td>2</td>\n",
       "      <td>0</td>\n",
       "      <td>to-am</td>\n",
       "      <td>các yếu_tố như độ tuổi của trẻ mối quan_hệ giữ...</td>\n",
       "    </tr>\n",
       "    <tr>\n",
       "      <th>3</th>\n",
       "      <td>3</td>\n",
       "      <td>0</td>\n",
       "      <td>to-am</td>\n",
       "      <td>ở tuổi đôi_mươi chị trần thị liên_kết_hôn với ...</td>\n",
       "    </tr>\n",
       "    <tr>\n",
       "      <th>4</th>\n",
       "      <td>4</td>\n",
       "      <td>0</td>\n",
       "      <td>to-am</td>\n",
       "      <td>chị hoàng thị hòa 34 tuổi ở hà nam lấy chồng b...</td>\n",
       "    </tr>\n",
       "  </tbody>\n",
       "</table>\n",
       "</div>"
      ],
      "text/plain": [
       "   article_id  topic sub-topic  \\\n",
       "0           0      0     to-am   \n",
       "1           1      0     to-am   \n",
       "2           2      0     to-am   \n",
       "3           3      0     to-am   \n",
       "4           4      0     to-am   \n",
       "\n",
       "                                                 tag  \n",
       "0  xin_lỗi đi nhiều thế_hệ đã dùng câu này để xử_...  \n",
       "1  một nghiên_cứu của đại_học wisconsinmadison mỹ...  \n",
       "2  các yếu_tố như độ tuổi của trẻ mối quan_hệ giữ...  \n",
       "3  ở tuổi đôi_mươi chị trần thị liên_kết_hôn với ...  \n",
       "4  chị hoàng thị hòa 34 tuổi ở hà nam lấy chồng b...  "
      ]
     },
     "execution_count": 6,
     "metadata": {},
     "output_type": "execute_result"
    }
   ],
   "source": [
    "news = vnexpress.copy()\n",
    "label_encoder = LabelEncoder()\n",
    "news['topic'] = label_encoder.fit_transform(vnexpress['topic'])\n",
    "vnexpress['tag'] = vnexpress['tag'].apply(lambda x: cleandt.remove_stopword(x, './data/vietnamese-stopwords-dash.txt'))\n",
    "news.head()"
   ]
  },
  {
   "cell_type": "code",
   "execution_count": 7,
   "metadata": {},
   "outputs": [
    {
     "data": {
      "text/plain": [
       "topic\n",
       "giai-tri    616\n",
       "the-thao    508\n",
       "khoa-hoc    449\n",
       "doi-song    363\n",
       "giao-duc    358\n",
       "du-lich     180\n",
       "Name: count, dtype: int64"
      ]
     },
     "execution_count": 7,
     "metadata": {},
     "output_type": "execute_result"
    }
   ],
   "source": [
    "vnexpress['topic'].value_counts()"
   ]
  },
  {
   "cell_type": "markdown",
   "metadata": {},
   "source": [
    "## Split dataset into train and test"
   ]
  },
  {
   "cell_type": "code",
   "execution_count": 91,
   "metadata": {},
   "outputs": [],
   "source": [
    "X = news[['tag']]\n",
    "y = news[['topic']]\n",
    "news_train, news_test, label_train, label_test = train_test_split(X, y, test_size=0.3, random_state=456)"
   ]
  },
  {
   "cell_type": "code",
   "execution_count": 92,
   "metadata": {},
   "outputs": [
    {
     "name": "stdout",
     "output_type": "stream",
     "text": [
      "The length of news_train:  1731 (1731, 1)\n",
      "The length of news_test:  743 (743, 1)\n"
     ]
    }
   ],
   "source": [
    "print(\"The length of news_train: \", len(news_train), news_train.shape)\n",
    "print(\"The length of news_test: \", len(news_test), news_test.shape)"
   ]
  },
  {
   "cell_type": "code",
   "execution_count": 93,
   "metadata": {},
   "outputs": [
    {
     "name": "stdout",
     "output_type": "stream",
     "text": [
      "topic\n",
      "2        421\n",
      "5        363\n",
      "4        313\n",
      "0        259\n",
      "3        247\n",
      "1        128\n",
      "Name: count, dtype: int64\n",
      "topic\n",
      "2        195\n",
      "5        145\n",
      "4        136\n",
      "3        111\n",
      "0        104\n",
      "1         52\n",
      "Name: count, dtype: int64\n"
     ]
    }
   ],
   "source": [
    "print(label_train.value_counts())\n",
    "print(label_test.value_counts())"
   ]
  },
  {
   "cell_type": "markdown",
   "metadata": {},
   "source": [
    "## Re-present text data in numeric vector by pre-train Word2Vec model"
   ]
  },
  {
   "cell_type": "code",
   "execution_count": 87,
   "metadata": {},
   "outputs": [],
   "source": [
    "def wordseparation(comment):\n",
    "   tokens = comment.split()\n",
    "   return tokens"
   ]
  },
  {
   "cell_type": "code",
   "execution_count": 105,
   "metadata": {},
   "outputs": [],
   "source": [
    "vectorizer = TfidfVectorizer()\n",
    "X_train = vectorizer.fit_transform(news_train['tag'])\n",
    "X_test = vectorizer.transform(news_test['tag'])"
   ]
  },
  {
   "cell_type": "code",
   "execution_count": 106,
   "metadata": {},
   "outputs": [
    {
     "name": "stdout",
     "output_type": "stream",
     "text": [
      "(1731, 31539)\n",
      "(743, 31539)\n"
     ]
    }
   ],
   "source": [
    "print(X_train.shape)\n",
    "print(X_test.shape)"
   ]
  },
  {
   "cell_type": "code",
   "execution_count": 107,
   "metadata": {},
   "outputs": [
    {
     "name": "stdout",
     "output_type": "stream",
     "text": [
      "  (0, 7836)\t0.03512112832697178\n",
      "  (0, 23761)\t0.013994802998077552\n",
      "  (0, 29951)\t0.045002515449863965\n",
      "  (0, 10098)\t0.01914977287822958\n",
      "  (0, 25125)\t0.024394326643463072\n",
      "  (0, 10714)\t0.011215665399623978\n",
      "  (0, 6444)\t0.045002515449863965\n",
      "  (0, 24992)\t0.02103347172378744\n",
      "  (0, 20339)\t0.018338201399431122\n",
      "  (0, 2967)\t0.042652280998050456\n",
      "  (0, 25211)\t0.026229867632798894\n",
      "  (0, 878)\t0.017809627090858763\n",
      "  (0, 25117)\t0.013246675726784935\n",
      "  (0, 30910)\t0.028248789548141758\n",
      "  (0, 524)\t0.03372325866305471\n",
      "  (0, 12067)\t0.00822581042199257\n",
      "  (0, 30773)\t0.015406457190169837\n",
      "  (0, 12557)\t0.03512112832697178\n",
      "  (0, 22515)\t0.045002515449863965\n",
      "  (0, 28918)\t0.03696701078446717\n",
      "  (0, 25179)\t0.045002515449863965\n",
      "  (0, 26193)\t0.007971913278211508\n",
      "  (0, 4426)\t0.06923355266530734\n",
      "  (0, 10674)\t0.06744651732610941\n",
      "  (0, 18216)\t0.00741503175899069\n",
      "  :\t:\n",
      "  (0, 30708)\t0.07474054217071781\n",
      "  (0, 25907)\t0.11939934064917311\n",
      "  (0, 30540)\t0.031348429612658116\n",
      "  (0, 26294)\t0.027380899947888032\n",
      "  (0, 30817)\t0.13489303465221883\n",
      "  (0, 18259)\t0.019272369580564757\n",
      "  (0, 5628)\t0.04139335492727197\n",
      "  (0, 11350)\t0.030845716181508585\n",
      "  (0, 20215)\t0.02548435097448569\n",
      "  (0, 27037)\t0.015901236281625195\n",
      "  (0, 6011)\t0.036930301284472555\n",
      "  (0, 27936)\t0.14039724525105607\n",
      "  (0, 26027)\t0.11409987736027062\n",
      "  (0, 1232)\t0.017300845297803145\n",
      "  (0, 13747)\t0.04098476311716557\n",
      "  (0, 7050)\t0.02658127166725688\n",
      "  (0, 5837)\t0.1518120187168954\n",
      "  (0, 14633)\t0.3600201235989117\n",
      "  (0, 9669)\t0.2250125772493198\n",
      "  (0, 19373)\t0.09200949873745654\n",
      "  (0, 20741)\t0.08530456199610091\n",
      "  (0, 1077)\t0.0313730242112412\n",
      "  (0, 17911)\t0.009590925508958478\n",
      "  (0, 6437)\t0.0651957088346216\n",
      "  (0, 24269)\t0.047482530104440625\n"
     ]
    }
   ],
   "source": [
    "print(X_train[0])"
   ]
  },
  {
   "cell_type": "markdown",
   "metadata": {},
   "source": [
    "## Create text classification model by Naive Bayes"
   ]
  },
  {
   "cell_type": "code",
   "execution_count": 108,
   "metadata": {},
   "outputs": [],
   "source": [
    "parameters = {'n_neighbors':[5, 7, 9, 10, 11, 13, 15, 17]}\n",
    "knn = KNeighborsClassifier()"
   ]
  },
  {
   "cell_type": "code",
   "execution_count": 109,
   "metadata": {},
   "outputs": [
    {
     "name": "stdout",
     "output_type": "stream",
     "text": [
      "Fitting 5 folds for each of 8 candidates, totalling 40 fits\n"
     ]
    },
    {
     "name": "stderr",
     "output_type": "stream",
     "text": [
      "d:\\Programming\\Vietnamese-Text-Generator\\.venv\\Lib\\site-packages\\sklearn\\neighbors\\_classification.py:238: DataConversionWarning: A column-vector y was passed when a 1d array was expected. Please change the shape of y to (n_samples,), for example using ravel().\n",
      "  return self._fit(X, y)\n",
      "d:\\Programming\\Vietnamese-Text-Generator\\.venv\\Lib\\site-packages\\sklearn\\neighbors\\_classification.py:238: DataConversionWarning: A column-vector y was passed when a 1d array was expected. Please change the shape of y to (n_samples,), for example using ravel().\n",
      "  return self._fit(X, y)\n",
      "d:\\Programming\\Vietnamese-Text-Generator\\.venv\\Lib\\site-packages\\sklearn\\neighbors\\_classification.py:238: DataConversionWarning: A column-vector y was passed when a 1d array was expected. Please change the shape of y to (n_samples,), for example using ravel().\n",
      "  return self._fit(X, y)\n",
      "d:\\Programming\\Vietnamese-Text-Generator\\.venv\\Lib\\site-packages\\sklearn\\neighbors\\_classification.py:238: DataConversionWarning: A column-vector y was passed when a 1d array was expected. Please change the shape of y to (n_samples,), for example using ravel().\n",
      "  return self._fit(X, y)\n",
      "d:\\Programming\\Vietnamese-Text-Generator\\.venv\\Lib\\site-packages\\sklearn\\neighbors\\_classification.py:238: DataConversionWarning: A column-vector y was passed when a 1d array was expected. Please change the shape of y to (n_samples,), for example using ravel().\n",
      "  return self._fit(X, y)\n",
      "d:\\Programming\\Vietnamese-Text-Generator\\.venv\\Lib\\site-packages\\sklearn\\neighbors\\_classification.py:238: DataConversionWarning: A column-vector y was passed when a 1d array was expected. Please change the shape of y to (n_samples,), for example using ravel().\n",
      "  return self._fit(X, y)\n",
      "d:\\Programming\\Vietnamese-Text-Generator\\.venv\\Lib\\site-packages\\sklearn\\neighbors\\_classification.py:238: DataConversionWarning: A column-vector y was passed when a 1d array was expected. Please change the shape of y to (n_samples,), for example using ravel().\n",
      "  return self._fit(X, y)\n",
      "d:\\Programming\\Vietnamese-Text-Generator\\.venv\\Lib\\site-packages\\sklearn\\neighbors\\_classification.py:238: DataConversionWarning: A column-vector y was passed when a 1d array was expected. Please change the shape of y to (n_samples,), for example using ravel().\n",
      "  return self._fit(X, y)\n",
      "d:\\Programming\\Vietnamese-Text-Generator\\.venv\\Lib\\site-packages\\sklearn\\neighbors\\_classification.py:238: DataConversionWarning: A column-vector y was passed when a 1d array was expected. Please change the shape of y to (n_samples,), for example using ravel().\n",
      "  return self._fit(X, y)\n",
      "d:\\Programming\\Vietnamese-Text-Generator\\.venv\\Lib\\site-packages\\sklearn\\neighbors\\_classification.py:238: DataConversionWarning: A column-vector y was passed when a 1d array was expected. Please change the shape of y to (n_samples,), for example using ravel().\n",
      "  return self._fit(X, y)\n",
      "d:\\Programming\\Vietnamese-Text-Generator\\.venv\\Lib\\site-packages\\sklearn\\neighbors\\_classification.py:238: DataConversionWarning: A column-vector y was passed when a 1d array was expected. Please change the shape of y to (n_samples,), for example using ravel().\n",
      "  return self._fit(X, y)\n",
      "d:\\Programming\\Vietnamese-Text-Generator\\.venv\\Lib\\site-packages\\sklearn\\neighbors\\_classification.py:238: DataConversionWarning: A column-vector y was passed when a 1d array was expected. Please change the shape of y to (n_samples,), for example using ravel().\n",
      "  return self._fit(X, y)\n",
      "d:\\Programming\\Vietnamese-Text-Generator\\.venv\\Lib\\site-packages\\sklearn\\neighbors\\_classification.py:238: DataConversionWarning: A column-vector y was passed when a 1d array was expected. Please change the shape of y to (n_samples,), for example using ravel().\n",
      "  return self._fit(X, y)\n",
      "d:\\Programming\\Vietnamese-Text-Generator\\.venv\\Lib\\site-packages\\sklearn\\neighbors\\_classification.py:238: DataConversionWarning: A column-vector y was passed when a 1d array was expected. Please change the shape of y to (n_samples,), for example using ravel().\n",
      "  return self._fit(X, y)\n",
      "d:\\Programming\\Vietnamese-Text-Generator\\.venv\\Lib\\site-packages\\sklearn\\neighbors\\_classification.py:238: DataConversionWarning: A column-vector y was passed when a 1d array was expected. Please change the shape of y to (n_samples,), for example using ravel().\n",
      "  return self._fit(X, y)\n",
      "d:\\Programming\\Vietnamese-Text-Generator\\.venv\\Lib\\site-packages\\sklearn\\neighbors\\_classification.py:238: DataConversionWarning: A column-vector y was passed when a 1d array was expected. Please change the shape of y to (n_samples,), for example using ravel().\n",
      "  return self._fit(X, y)\n",
      "d:\\Programming\\Vietnamese-Text-Generator\\.venv\\Lib\\site-packages\\sklearn\\neighbors\\_classification.py:238: DataConversionWarning: A column-vector y was passed when a 1d array was expected. Please change the shape of y to (n_samples,), for example using ravel().\n",
      "  return self._fit(X, y)\n",
      "d:\\Programming\\Vietnamese-Text-Generator\\.venv\\Lib\\site-packages\\sklearn\\neighbors\\_classification.py:238: DataConversionWarning: A column-vector y was passed when a 1d array was expected. Please change the shape of y to (n_samples,), for example using ravel().\n",
      "  return self._fit(X, y)\n",
      "d:\\Programming\\Vietnamese-Text-Generator\\.venv\\Lib\\site-packages\\sklearn\\neighbors\\_classification.py:238: DataConversionWarning: A column-vector y was passed when a 1d array was expected. Please change the shape of y to (n_samples,), for example using ravel().\n",
      "  return self._fit(X, y)\n",
      "d:\\Programming\\Vietnamese-Text-Generator\\.venv\\Lib\\site-packages\\sklearn\\neighbors\\_classification.py:238: DataConversionWarning: A column-vector y was passed when a 1d array was expected. Please change the shape of y to (n_samples,), for example using ravel().\n",
      "  return self._fit(X, y)\n",
      "d:\\Programming\\Vietnamese-Text-Generator\\.venv\\Lib\\site-packages\\sklearn\\neighbors\\_classification.py:238: DataConversionWarning: A column-vector y was passed when a 1d array was expected. Please change the shape of y to (n_samples,), for example using ravel().\n",
      "  return self._fit(X, y)\n",
      "d:\\Programming\\Vietnamese-Text-Generator\\.venv\\Lib\\site-packages\\sklearn\\neighbors\\_classification.py:238: DataConversionWarning: A column-vector y was passed when a 1d array was expected. Please change the shape of y to (n_samples,), for example using ravel().\n",
      "  return self._fit(X, y)\n",
      "d:\\Programming\\Vietnamese-Text-Generator\\.venv\\Lib\\site-packages\\sklearn\\neighbors\\_classification.py:238: DataConversionWarning: A column-vector y was passed when a 1d array was expected. Please change the shape of y to (n_samples,), for example using ravel().\n",
      "  return self._fit(X, y)\n",
      "d:\\Programming\\Vietnamese-Text-Generator\\.venv\\Lib\\site-packages\\sklearn\\neighbors\\_classification.py:238: DataConversionWarning: A column-vector y was passed when a 1d array was expected. Please change the shape of y to (n_samples,), for example using ravel().\n",
      "  return self._fit(X, y)\n",
      "d:\\Programming\\Vietnamese-Text-Generator\\.venv\\Lib\\site-packages\\sklearn\\neighbors\\_classification.py:238: DataConversionWarning: A column-vector y was passed when a 1d array was expected. Please change the shape of y to (n_samples,), for example using ravel().\n",
      "  return self._fit(X, y)\n",
      "d:\\Programming\\Vietnamese-Text-Generator\\.venv\\Lib\\site-packages\\sklearn\\neighbors\\_classification.py:238: DataConversionWarning: A column-vector y was passed when a 1d array was expected. Please change the shape of y to (n_samples,), for example using ravel().\n",
      "  return self._fit(X, y)\n",
      "d:\\Programming\\Vietnamese-Text-Generator\\.venv\\Lib\\site-packages\\sklearn\\neighbors\\_classification.py:238: DataConversionWarning: A column-vector y was passed when a 1d array was expected. Please change the shape of y to (n_samples,), for example using ravel().\n",
      "  return self._fit(X, y)\n",
      "d:\\Programming\\Vietnamese-Text-Generator\\.venv\\Lib\\site-packages\\sklearn\\neighbors\\_classification.py:238: DataConversionWarning: A column-vector y was passed when a 1d array was expected. Please change the shape of y to (n_samples,), for example using ravel().\n",
      "  return self._fit(X, y)\n",
      "d:\\Programming\\Vietnamese-Text-Generator\\.venv\\Lib\\site-packages\\sklearn\\neighbors\\_classification.py:238: DataConversionWarning: A column-vector y was passed when a 1d array was expected. Please change the shape of y to (n_samples,), for example using ravel().\n",
      "  return self._fit(X, y)\n",
      "d:\\Programming\\Vietnamese-Text-Generator\\.venv\\Lib\\site-packages\\sklearn\\neighbors\\_classification.py:238: DataConversionWarning: A column-vector y was passed when a 1d array was expected. Please change the shape of y to (n_samples,), for example using ravel().\n",
      "  return self._fit(X, y)\n",
      "d:\\Programming\\Vietnamese-Text-Generator\\.venv\\Lib\\site-packages\\sklearn\\neighbors\\_classification.py:238: DataConversionWarning: A column-vector y was passed when a 1d array was expected. Please change the shape of y to (n_samples,), for example using ravel().\n",
      "  return self._fit(X, y)\n",
      "d:\\Programming\\Vietnamese-Text-Generator\\.venv\\Lib\\site-packages\\sklearn\\neighbors\\_classification.py:238: DataConversionWarning: A column-vector y was passed when a 1d array was expected. Please change the shape of y to (n_samples,), for example using ravel().\n",
      "  return self._fit(X, y)\n",
      "d:\\Programming\\Vietnamese-Text-Generator\\.venv\\Lib\\site-packages\\sklearn\\neighbors\\_classification.py:238: DataConversionWarning: A column-vector y was passed when a 1d array was expected. Please change the shape of y to (n_samples,), for example using ravel().\n",
      "  return self._fit(X, y)\n",
      "d:\\Programming\\Vietnamese-Text-Generator\\.venv\\Lib\\site-packages\\sklearn\\neighbors\\_classification.py:238: DataConversionWarning: A column-vector y was passed when a 1d array was expected. Please change the shape of y to (n_samples,), for example using ravel().\n",
      "  return self._fit(X, y)\n",
      "d:\\Programming\\Vietnamese-Text-Generator\\.venv\\Lib\\site-packages\\sklearn\\neighbors\\_classification.py:238: DataConversionWarning: A column-vector y was passed when a 1d array was expected. Please change the shape of y to (n_samples,), for example using ravel().\n",
      "  return self._fit(X, y)\n",
      "d:\\Programming\\Vietnamese-Text-Generator\\.venv\\Lib\\site-packages\\sklearn\\neighbors\\_classification.py:238: DataConversionWarning: A column-vector y was passed when a 1d array was expected. Please change the shape of y to (n_samples,), for example using ravel().\n",
      "  return self._fit(X, y)\n",
      "d:\\Programming\\Vietnamese-Text-Generator\\.venv\\Lib\\site-packages\\sklearn\\neighbors\\_classification.py:238: DataConversionWarning: A column-vector y was passed when a 1d array was expected. Please change the shape of y to (n_samples,), for example using ravel().\n",
      "  return self._fit(X, y)\n",
      "d:\\Programming\\Vietnamese-Text-Generator\\.venv\\Lib\\site-packages\\sklearn\\neighbors\\_classification.py:238: DataConversionWarning: A column-vector y was passed when a 1d array was expected. Please change the shape of y to (n_samples,), for example using ravel().\n",
      "  return self._fit(X, y)\n",
      "d:\\Programming\\Vietnamese-Text-Generator\\.venv\\Lib\\site-packages\\sklearn\\neighbors\\_classification.py:238: DataConversionWarning: A column-vector y was passed when a 1d array was expected. Please change the shape of y to (n_samples,), for example using ravel().\n",
      "  return self._fit(X, y)\n",
      "d:\\Programming\\Vietnamese-Text-Generator\\.venv\\Lib\\site-packages\\sklearn\\neighbors\\_classification.py:238: DataConversionWarning: A column-vector y was passed when a 1d array was expected. Please change the shape of y to (n_samples,), for example using ravel().\n",
      "  return self._fit(X, y)\n"
     ]
    },
    {
     "name": "stdout",
     "output_type": "stream",
     "text": [
      "\n",
      " The best estimator across ALL searched params:\n",
      " {'n_neighbors': 11}\n",
      "\n",
      " The best score across ALL searched params:\n",
      " 0.9098732321633822\n"
     ]
    },
    {
     "name": "stderr",
     "output_type": "stream",
     "text": [
      "d:\\Programming\\Vietnamese-Text-Generator\\.venv\\Lib\\site-packages\\sklearn\\neighbors\\_classification.py:238: DataConversionWarning: A column-vector y was passed when a 1d array was expected. Please change the shape of y to (n_samples,), for example using ravel().\n",
      "  return self._fit(X, y)\n"
     ]
    }
   ],
   "source": [
    "grid_mnb = GridSearchCV(estimator=knn, param_grid=parameters, cv=5, n_jobs=1, verbose=1)\n",
    "grid_mnb.fit(X_train, label_train)\n",
    "\n",
    "print(\"\\n The best estimator across ALL searched params:\\n\", grid_mnb.best_params_)\n",
    "print(\"\\n The best score across ALL searched params:\\n\", grid_mnb.best_score_)"
   ]
  },
  {
   "cell_type": "code",
   "execution_count": 110,
   "metadata": {},
   "outputs": [],
   "source": [
    "predictions = grid_mnb.predict(X_test)\n",
    "print(mean_squared_error(label_test, predictions))"
   ]
  },
  {
   "cell_type": "code",
   "execution_count": 112,
   "metadata": {},
   "outputs": [
    {
     "data": {
      "text/plain": [
       "<sklearn.metrics._plot.confusion_matrix.ConfusionMatrixDisplay at 0x22fe158ae50>"
      ]
     },
     "execution_count": 112,
     "metadata": {},
     "output_type": "execute_result"
    },
    {
     "data": {
      "image/png": "[encoded data removed]",
      "text/plain": [
       "<Figure size 640x480 with 1 Axes>"
      ]
     },
     "metadata": {},
     "output_type": "display_data"
    }
   ],
   "source": [
    "cm = confusion_matrix(label_test, predictions)\n",
    "cfm = ConfusionMatrixDisplay(confusion_matrix=cm)\n",
    "cfm.plot(colorbar=False)"
   ]
  },
  {
   "cell_type": "code",
   "execution_count": 113,
   "metadata": {},
   "outputs": [
    {
     "name": "stdout",
     "output_type": "stream",
     "text": [
      "              precision    recall  f1-score   support\n",
      "\n",
      "           0       0.82      0.90      0.86       104\n",
      "           1       0.86      0.85      0.85        52\n",
      "           2       0.92      0.95      0.93       195\n",
      "           3       0.92      0.90      0.91       111\n",
      "           4       0.95      0.86      0.90       136\n",
      "           5       0.98      0.97      0.97       145\n",
      "\n",
      "    accuracy                           0.92       743\n",
      "   macro avg       0.91      0.90      0.90       743\n",
      "weighted avg       0.92      0.92      0.92       743\n",
      "\n"
     ]
    }
   ],
   "source": [
    "print(classification_report(label_test, predictions))"
   ]
  }
 ],
 "metadata": {
  "kernelspec": {
   "display_name": ".venv",
   "language": "python",
   "name": "python3"
  },
  "language_info": {
   "codemirror_mode": {
    "name": "ipython",
    "version": 3
   },
   "file_extension": ".py",
   "mimetype": "text/x-python",
   "name": "python",
   "nbconvert_exporter": "python",
   "pygments_lexer": "ipython3",
   "version": "3.11.1"
  }
 },
 "nbformat": 4,
 "nbformat_minor": 2
}
